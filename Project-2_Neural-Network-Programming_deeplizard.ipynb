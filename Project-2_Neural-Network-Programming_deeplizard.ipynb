{
 "cells": [
  {
   "cell_type": "code",
   "execution_count": 147,
   "metadata": {
    "collapsed": true
   },
   "outputs": [],
   "source": [
    "import torch\n",
    "import numpy as np\n",
    "import torchvision # computer vision package \n",
    "import torchvision.transforms as transforms # interface for common IP transforms. \n",
    "import torch.nn as nn\n",
    "import torchvision.transforms as transforms \n",
    "torch.set_printoptions(linewidth=120)"
   ]
  },
  {
   "cell_type": "code",
   "execution_count": 148,
   "metadata": {},
   "outputs": [
    {
     "ename": "NameError",
     "evalue": "name 'Dataset' is not defined",
     "output_type": "error",
     "traceback": [
      "\u001b[0;31m---------------------------------------------------------------------------\u001b[0m",
      "\u001b[0;31mNameError\u001b[0m                                 Traceback (most recent call last)",
      "\u001b[0;32m<ipython-input-148-b0e617fe3e93>\u001b[0m in \u001b[0;36m<module>\u001b[0;34m()\u001b[0m\n\u001b[1;32m     16\u001b[0m \u001b[0;34m\u001b[0m\u001b[0m\n\u001b[1;32m     17\u001b[0m \u001b[0;31m# example\u001b[0m\u001b[0;34m\u001b[0m\u001b[0;34m\u001b[0m\u001b[0m\n\u001b[0;32m---> 18\u001b[0;31m \u001b[0;32mclass\u001b[0m \u001b[0mOHLC\u001b[0m\u001b[0;34m(\u001b[0m\u001b[0mDataset\u001b[0m\u001b[0;34m)\u001b[0m\u001b[0;34m:\u001b[0m\u001b[0;34m\u001b[0m\u001b[0m\n\u001b[0m\u001b[1;32m     19\u001b[0m     \u001b[0;32mdef\u001b[0m \u001b[0m__init__\u001b[0m\u001b[0;34m(\u001b[0m\u001b[0mself\u001b[0m\u001b[0;34m,\u001b[0m \u001b[0mcsv_file\u001b[0m\u001b[0;34m)\u001b[0m\u001b[0;34m:\u001b[0m\u001b[0;34m\u001b[0m\u001b[0m\n\u001b[1;32m     20\u001b[0m         \u001b[0mself\u001b[0m\u001b[0;34m.\u001b[0m\u001b[0mdata\u001b[0m \u001b[0;34m=\u001b[0m \u001b[0mpd\u001b[0m\u001b[0;34m.\u001b[0m\u001b[0mread_csv\u001b[0m\u001b[0;34m(\u001b[0m\u001b[0mcsv_file\u001b[0m\u001b[0;34m)\u001b[0m\u001b[0;34m\u001b[0m\u001b[0m\n",
      "\u001b[0;31mNameError\u001b[0m: name 'Dataset' is not defined"
     ]
    }
   ],
   "source": [
    "# MNIST FASHION\n",
    "\n",
    "# Extract, transform, load. \n",
    "# extract the data from the source\n",
    "# trasnforms it into a tensor\n",
    "# load it into an object\n",
    "\n",
    "# we have two classes built in for this. \n",
    "\n",
    "# torch.utils.data.Dataset is the dataset class\n",
    "# torch.utils.data.DataLoader wraps the data \n",
    "\n",
    "# An abstract class is a python class that has a few methods we need to implement\n",
    "\n",
    "# custom dataset class by extending the dataset class\n",
    "\n",
    "# example\n",
    "class OHLC(Dataset):\n",
    "    def __init__(self, csv_file):\n",
    "        self.data = pd.read_csv(csv_file)\n",
    "        \n",
    "    def __getitem(self, index):\n",
    "        r = self.data.iloc[index]\n",
    "        label = torch.tensor(r.is_up_day, dtype=torch.long)\n",
    "        sample = self.normalize(torch.tensor(r.open, r.high, r.low, r.close))\n",
    "        \n",
    "        return sample, label\n",
    "    \n",
    "    def __len__(self):\n",
    "        return len(self.data)"
   ]
  },
  {
   "cell_type": "code",
   "execution_count": 149,
   "metadata": {},
   "outputs": [],
   "source": [
    "# LOAD\n",
    "train_set = torchvision.datasets.FashionMNIST(\n",
    "    root = './data/FashionMNIST',\n",
    "    train = True,\n",
    "    download = True,\n",
    "    transform = transforms.Compose([ # This is the transform. Easy. \n",
    "        transforms.ToTensor() # TRANSFORM\n",
    "    ])\n",
    ")"
   ]
  },
  {
   "cell_type": "code",
   "execution_count": 150,
   "metadata": {
    "collapsed": true
   },
   "outputs": [],
   "source": [
    "train_loader = torch.utils.data.DataLoader(train_set, batch_size = 100)\n",
    "# 10 images per batch"
   ]
  },
  {
   "cell_type": "code",
   "execution_count": 151,
   "metadata": {},
   "outputs": [
    {
     "data": {
      "text/plain": [
       "torch.utils.data.dataloader.DataLoader"
      ]
     },
     "execution_count": 151,
     "metadata": {},
     "output_type": "execute_result"
    }
   ],
   "source": [
    "type(train_loader)"
   ]
  },
  {
   "cell_type": "code",
   "execution_count": 152,
   "metadata": {},
   "outputs": [
    {
     "name": "stderr",
     "output_type": "stream",
     "text": [
      "/Users/alexquill/anaconda3/lib/python3.6/site-packages/torchvision/datasets/mnist.py:45: UserWarning: train_labels has been renamed targets\n",
      "  warnings.warn(\"train_labels has been renamed targets\")\n"
     ]
    },
    {
     "data": {
      "text/plain": [
       "tensor([9, 0, 0,  ..., 3, 0, 5])"
      ]
     },
     "execution_count": 152,
     "metadata": {},
     "output_type": "execute_result"
    }
   ],
   "source": [
    "# neat. \n",
    "# now we have two objects - a dataset object and a dataloader object. \n",
    "import numpy as np\n",
    "import matplotlib.pyplot as plt\n",
    "\n",
    "torch.set_printoptions(linewidth=120) # just says how much we want it to print out \n",
    "\n",
    "train_set.train_labels"
   ]
  },
  {
   "cell_type": "code",
   "execution_count": 153,
   "metadata": {},
   "outputs": [
    {
     "name": "stderr",
     "output_type": "stream",
     "text": [
      "/Users/alexquill/anaconda3/lib/python3.6/site-packages/torchvision/datasets/mnist.py:45: UserWarning: train_labels has been renamed targets\n",
      "  warnings.warn(\"train_labels has been renamed targets\")\n"
     ]
    },
    {
     "data": {
      "text/plain": [
       "tensor([6000, 6000, 6000, 6000, 6000, 6000, 6000, 6000, 6000, 6000])"
      ]
     },
     "execution_count": 153,
     "metadata": {},
     "output_type": "execute_result"
    }
   ],
   "source": [
    "train_set.train_labels.bincount() # bincount counts the number of elements per label"
   ]
  },
  {
   "cell_type": "code",
   "execution_count": 154,
   "metadata": {},
   "outputs": [
    {
     "name": "stdout",
     "output_type": "stream",
     "text": [
      "(tensor([[[0.0000, 0.0000, 0.0000, 0.0000, 0.0000, 0.0000, 0.0000, 0.0000, 0.0000, 0.0000, 0.0000, 0.0000, 0.0000,\n",
      "          0.0000, 0.0000, 0.0000, 0.0000, 0.0000, 0.0000, 0.0000, 0.0000, 0.0000, 0.0000, 0.0000, 0.0000, 0.0000,\n",
      "          0.0000, 0.0000],\n",
      "         [0.0000, 0.0000, 0.0000, 0.0000, 0.0000, 0.0000, 0.0000, 0.0000, 0.0000, 0.0000, 0.0000, 0.0000, 0.0000,\n",
      "          0.0000, 0.0000, 0.0000, 0.0000, 0.0000, 0.0000, 0.0000, 0.0000, 0.0000, 0.0000, 0.0000, 0.0000, 0.0000,\n",
      "          0.0000, 0.0000],\n",
      "         [0.0000, 0.0000, 0.0000, 0.0000, 0.0000, 0.0000, 0.0000, 0.0000, 0.0000, 0.0000, 0.0000, 0.0000, 0.0000,\n",
      "          0.0000, 0.0000, 0.0000, 0.0000, 0.0000, 0.0000, 0.0000, 0.0000, 0.0000, 0.0000, 0.0000, 0.0000, 0.0000,\n",
      "          0.0000, 0.0000],\n",
      "         [0.0000, 0.0000, 0.0000, 0.0000, 0.0000, 0.0000, 0.0000, 0.0000, 0.0000, 0.0000, 0.0000, 0.0000, 0.0039,\n",
      "          0.0000, 0.0000, 0.0510, 0.2863, 0.0000, 0.0000, 0.0039, 0.0157, 0.0000, 0.0000, 0.0000, 0.0000, 0.0039,\n",
      "          0.0039, 0.0000],\n",
      "         [0.0000, 0.0000, 0.0000, 0.0000, 0.0000, 0.0000, 0.0000, 0.0000, 0.0000, 0.0000, 0.0000, 0.0000, 0.0118,\n",
      "          0.0000, 0.1412, 0.5333, 0.4980, 0.2431, 0.2118, 0.0000, 0.0000, 0.0000, 0.0039, 0.0118, 0.0157, 0.0000,\n",
      "          0.0000, 0.0118],\n",
      "         [0.0000, 0.0000, 0.0000, 0.0000, 0.0000, 0.0000, 0.0000, 0.0000, 0.0000, 0.0000, 0.0000, 0.0000, 0.0235,\n",
      "          0.0000, 0.4000, 0.8000, 0.6902, 0.5255, 0.5647, 0.4824, 0.0902, 0.0000, 0.0000, 0.0000, 0.0000, 0.0471,\n",
      "          0.0392, 0.0000],\n",
      "         [0.0000, 0.0000, 0.0000, 0.0000, 0.0000, 0.0000, 0.0000, 0.0000, 0.0000, 0.0000, 0.0000, 0.0000, 0.0000,\n",
      "          0.0000, 0.6078, 0.9255, 0.8118, 0.6980, 0.4196, 0.6118, 0.6314, 0.4275, 0.2510, 0.0902, 0.3020, 0.5098,\n",
      "          0.2824, 0.0588],\n",
      "         [0.0000, 0.0000, 0.0000, 0.0000, 0.0000, 0.0000, 0.0000, 0.0000, 0.0000, 0.0000, 0.0000, 0.0039, 0.0000,\n",
      "          0.2706, 0.8118, 0.8745, 0.8549, 0.8471, 0.8471, 0.6392, 0.4980, 0.4745, 0.4784, 0.5725, 0.5529, 0.3451,\n",
      "          0.6745, 0.2588],\n",
      "         [0.0000, 0.0000, 0.0000, 0.0000, 0.0000, 0.0000, 0.0000, 0.0000, 0.0000, 0.0039, 0.0039, 0.0039, 0.0000,\n",
      "          0.7843, 0.9098, 0.9098, 0.9137, 0.8980, 0.8745, 0.8745, 0.8431, 0.8353, 0.6431, 0.4980, 0.4824, 0.7686,\n",
      "          0.8980, 0.0000],\n",
      "         [0.0000, 0.0000, 0.0000, 0.0000, 0.0000, 0.0000, 0.0000, 0.0000, 0.0000, 0.0000, 0.0000, 0.0000, 0.0000,\n",
      "          0.7176, 0.8824, 0.8471, 0.8745, 0.8941, 0.9216, 0.8902, 0.8784, 0.8706, 0.8784, 0.8667, 0.8745, 0.9608,\n",
      "          0.6784, 0.0000],\n",
      "         [0.0000, 0.0000, 0.0000, 0.0000, 0.0000, 0.0000, 0.0000, 0.0000, 0.0000, 0.0000, 0.0000, 0.0000, 0.0000,\n",
      "          0.7569, 0.8941, 0.8549, 0.8353, 0.7765, 0.7059, 0.8314, 0.8235, 0.8275, 0.8353, 0.8745, 0.8627, 0.9529,\n",
      "          0.7922, 0.0000],\n",
      "         [0.0000, 0.0000, 0.0000, 0.0000, 0.0000, 0.0000, 0.0000, 0.0000, 0.0000, 0.0039, 0.0118, 0.0000, 0.0471,\n",
      "          0.8588, 0.8627, 0.8314, 0.8549, 0.7529, 0.6627, 0.8902, 0.8157, 0.8549, 0.8784, 0.8314, 0.8863, 0.7725,\n",
      "          0.8196, 0.2039],\n",
      "         [0.0000, 0.0000, 0.0000, 0.0000, 0.0000, 0.0000, 0.0000, 0.0000, 0.0000, 0.0000, 0.0235, 0.0000, 0.3882,\n",
      "          0.9569, 0.8706, 0.8627, 0.8549, 0.7961, 0.7765, 0.8667, 0.8431, 0.8353, 0.8706, 0.8627, 0.9608, 0.4667,\n",
      "          0.6549, 0.2196],\n",
      "         [0.0000, 0.0000, 0.0000, 0.0000, 0.0000, 0.0000, 0.0000, 0.0000, 0.0000, 0.0157, 0.0000, 0.0000, 0.2157,\n",
      "          0.9255, 0.8941, 0.9020, 0.8941, 0.9412, 0.9098, 0.8353, 0.8549, 0.8745, 0.9176, 0.8510, 0.8510, 0.8196,\n",
      "          0.3608, 0.0000],\n",
      "         [0.0000, 0.0000, 0.0039, 0.0157, 0.0235, 0.0275, 0.0078, 0.0000, 0.0000, 0.0000, 0.0000, 0.0000, 0.9294,\n",
      "          0.8863, 0.8510, 0.8745, 0.8706, 0.8588, 0.8706, 0.8667, 0.8471, 0.8745, 0.8980, 0.8431, 0.8549, 1.0000,\n",
      "          0.3020, 0.0000],\n",
      "         [0.0000, 0.0118, 0.0000, 0.0000, 0.0000, 0.0000, 0.0000, 0.0000, 0.0000, 0.2431, 0.5686, 0.8000, 0.8941,\n",
      "          0.8118, 0.8353, 0.8667, 0.8549, 0.8157, 0.8275, 0.8549, 0.8784, 0.8745, 0.8588, 0.8431, 0.8784, 0.9569,\n",
      "          0.6235, 0.0000],\n",
      "         [0.0000, 0.0000, 0.0000, 0.0000, 0.0706, 0.1725, 0.3216, 0.4196, 0.7412, 0.8941, 0.8627, 0.8706, 0.8510,\n",
      "          0.8863, 0.7843, 0.8039, 0.8275, 0.9020, 0.8784, 0.9176, 0.6902, 0.7373, 0.9804, 0.9725, 0.9137, 0.9333,\n",
      "          0.8431, 0.0000],\n",
      "         [0.0000, 0.2235, 0.7333, 0.8157, 0.8784, 0.8667, 0.8784, 0.8157, 0.8000, 0.8392, 0.8157, 0.8196, 0.7843,\n",
      "          0.6235, 0.9608, 0.7569, 0.8078, 0.8745, 1.0000, 1.0000, 0.8667, 0.9176, 0.8667, 0.8275, 0.8627, 0.9098,\n",
      "          0.9647, 0.0000],\n",
      "         [0.0118, 0.7922, 0.8941, 0.8784, 0.8667, 0.8275, 0.8275, 0.8392, 0.8039, 0.8039, 0.8039, 0.8627, 0.9412,\n",
      "          0.3137, 0.5882, 1.0000, 0.8980, 0.8667, 0.7373, 0.6039, 0.7490, 0.8235, 0.8000, 0.8196, 0.8706, 0.8941,\n",
      "          0.8824, 0.0000],\n",
      "         [0.3843, 0.9137, 0.7765, 0.8235, 0.8706, 0.8980, 0.8980, 0.9176, 0.9765, 0.8627, 0.7608, 0.8431, 0.8510,\n",
      "          0.9451, 0.2549, 0.2863, 0.4157, 0.4588, 0.6588, 0.8588, 0.8667, 0.8431, 0.8510, 0.8745, 0.8745, 0.8784,\n",
      "          0.8980, 0.1137],\n",
      "         [0.2941, 0.8000, 0.8314, 0.8000, 0.7569, 0.8039, 0.8275, 0.8824, 0.8471, 0.7255, 0.7725, 0.8078, 0.7765,\n",
      "          0.8353, 0.9412, 0.7647, 0.8902, 0.9608, 0.9373, 0.8745, 0.8549, 0.8314, 0.8196, 0.8706, 0.8627, 0.8667,\n",
      "          0.9020, 0.2627],\n",
      "         [0.1882, 0.7961, 0.7176, 0.7608, 0.8353, 0.7725, 0.7255, 0.7451, 0.7608, 0.7529, 0.7922, 0.8392, 0.8588,\n",
      "          0.8667, 0.8627, 0.9255, 0.8824, 0.8471, 0.7804, 0.8078, 0.7294, 0.7098, 0.6941, 0.6745, 0.7098, 0.8039,\n",
      "          0.8078, 0.4510],\n",
      "         [0.0000, 0.4784, 0.8588, 0.7569, 0.7020, 0.6706, 0.7176, 0.7686, 0.8000, 0.8235, 0.8353, 0.8118, 0.8275,\n",
      "          0.8235, 0.7843, 0.7686, 0.7608, 0.7490, 0.7647, 0.7490, 0.7765, 0.7529, 0.6902, 0.6118, 0.6549, 0.6941,\n",
      "          0.8235, 0.3608],\n",
      "         [0.0000, 0.0000, 0.2902, 0.7412, 0.8314, 0.7490, 0.6863, 0.6745, 0.6863, 0.7098, 0.7255, 0.7373, 0.7412,\n",
      "          0.7373, 0.7569, 0.7765, 0.8000, 0.8196, 0.8235, 0.8235, 0.8275, 0.7373, 0.7373, 0.7608, 0.7529, 0.8471,\n",
      "          0.6667, 0.0000],\n",
      "         [0.0078, 0.0000, 0.0000, 0.0000, 0.2588, 0.7843, 0.8706, 0.9294, 0.9373, 0.9490, 0.9647, 0.9529, 0.9569,\n",
      "          0.8667, 0.8627, 0.7569, 0.7490, 0.7020, 0.7137, 0.7137, 0.7098, 0.6902, 0.6510, 0.6588, 0.3882, 0.2275,\n",
      "          0.0000, 0.0000],\n",
      "         [0.0000, 0.0000, 0.0000, 0.0000, 0.0000, 0.0000, 0.0000, 0.1569, 0.2392, 0.1725, 0.2824, 0.1608, 0.1373,\n",
      "          0.0000, 0.0000, 0.0000, 0.0000, 0.0000, 0.0000, 0.0000, 0.0000, 0.0000, 0.0000, 0.0000, 0.0000, 0.0000,\n",
      "          0.0000, 0.0000],\n",
      "         [0.0000, 0.0000, 0.0000, 0.0000, 0.0000, 0.0000, 0.0000, 0.0000, 0.0000, 0.0000, 0.0000, 0.0000, 0.0000,\n",
      "          0.0000, 0.0000, 0.0000, 0.0000, 0.0000, 0.0000, 0.0000, 0.0000, 0.0000, 0.0000, 0.0000, 0.0000, 0.0000,\n",
      "          0.0000, 0.0000],\n",
      "         [0.0000, 0.0000, 0.0000, 0.0000, 0.0000, 0.0000, 0.0000, 0.0000, 0.0000, 0.0000, 0.0000, 0.0000, 0.0000,\n",
      "          0.0000, 0.0000, 0.0000, 0.0000, 0.0000, 0.0000, 0.0000, 0.0000, 0.0000, 0.0000, 0.0000, 0.0000, 0.0000,\n",
      "          0.0000, 0.0000]]]), 9)\n"
     ]
    }
   ],
   "source": [
    "# Balanced across labels! Nice. \n",
    "sample = next(iter(train_set))\n",
    "print(sample)"
   ]
  },
  {
   "cell_type": "code",
   "execution_count": 155,
   "metadata": {},
   "outputs": [
    {
     "data": {
      "text/plain": [
       "2"
      ]
     },
     "execution_count": 155,
     "metadata": {},
     "output_type": "execute_result"
    }
   ],
   "source": [
    "len(sample)"
   ]
  },
  {
   "cell_type": "code",
   "execution_count": 156,
   "metadata": {},
   "outputs": [
    {
     "name": "stdout",
     "output_type": "stream",
     "text": [
      "9\n"
     ]
    }
   ],
   "source": [
    "image, label = sample\n",
    "print(label) # easy enough"
   ]
  },
  {
   "cell_type": "code",
   "execution_count": 157,
   "metadata": {},
   "outputs": [
    {
     "data": {
      "image/png": "[encoded data removed]",
      "text/plain": [
       "<matplotlib.figure.Figure at 0x12e9e9278>"
      ]
     },
     "metadata": {},
     "output_type": "display_data"
    }
   ],
   "source": [
    "plt.imshow(image.squeeze(), cmap='gray')\n",
    "plt.show()"
   ]
  },
  {
   "cell_type": "code",
   "execution_count": 158,
   "metadata": {},
   "outputs": [
    {
     "name": "stdout",
     "output_type": "stream",
     "text": [
      "2\n"
     ]
    }
   ],
   "source": [
    "batch = next(iter(train_loader))\n",
    "print(len(batch))"
   ]
  },
  {
   "cell_type": "code",
   "execution_count": 159,
   "metadata": {},
   "outputs": [
    {
     "data": {
      "text/plain": [
       "list"
      ]
     },
     "execution_count": 159,
     "metadata": {},
     "output_type": "execute_result"
    }
   ],
   "source": [
    "type(batch)"
   ]
  },
  {
   "cell_type": "code",
   "execution_count": 160,
   "metadata": {
    "collapsed": true
   },
   "outputs": [],
   "source": [
    "images, labels = batch"
   ]
  },
  {
   "cell_type": "code",
   "execution_count": 161,
   "metadata": {},
   "outputs": [
    {
     "data": {
      "text/plain": [
       "0"
      ]
     },
     "execution_count": 161,
     "metadata": {},
     "output_type": "execute_result"
    }
   ],
   "source": [
    "labels[1].item()"
   ]
  },
  {
   "cell_type": "code",
   "execution_count": 162,
   "metadata": {},
   "outputs": [
    {
     "data": {
      "text/plain": [
       "torch.Size([100, 1, 28, 28])"
      ]
     },
     "execution_count": 162,
     "metadata": {},
     "output_type": "execute_result"
    }
   ],
   "source": [
    "images.shape"
   ]
  },
  {
   "cell_type": "code",
   "execution_count": 163,
   "metadata": {},
   "outputs": [
    {
     "data": {
      "text/plain": [
       "torch.Size([100])"
      ]
     },
     "execution_count": 163,
     "metadata": {},
     "output_type": "execute_result"
    }
   ],
   "source": [
    "labels.shape"
   ]
  },
  {
   "cell_type": "code",
   "execution_count": 164,
   "metadata": {},
   "outputs": [
    {
     "data": {
      "image/png": "[encoded data removed]",
      "text/plain": [
       "<matplotlib.figure.Figure at 0x129a4bcc0>"
      ]
     },
     "metadata": {},
     "output_type": "display_data"
    }
   ],
   "source": [
    "grid = torchvision.utils.make_grid(images, nrow=10)\n",
    "plt.figure(figsize=(15,15))\n",
    "plt.imshow(np.transpose(grid, (1,2,0)))\n",
    "plt.show()"
   ]
  },
  {
   "cell_type": "code",
   "execution_count": 165,
   "metadata": {},
   "outputs": [],
   "source": [
    "# Object oriented neural nets \n",
    "\n",
    "import torch.nn as nn # how we build custom nns \n",
    "\n",
    "# every nn must implement the \"forward\" method\n",
    "# when we implement forward we always use functions from the nn.functional package\n",
    "\n",
    "# Three steps for building an nn\n",
    "# 1) extended the nn.Module base class\n",
    "# 2) define layers as class attributes\n",
    "# 3) implent forward()\n",
    "\n",
    "class Network(nn.Module):\n",
    "    \n",
    "    def __init__(self):\n",
    "        super(Network, self).init()\n",
    "        self.layer = None # this is a dummy layer\n",
    "        \n",
    "    def forward(self, t):\n",
    "        t = self.layer # transform it with layer\n",
    "        return t"
   ]
  },
  {
   "cell_type": "code",
   "execution_count": 166,
   "metadata": {},
   "outputs": [],
   "source": [
    "class realNetwork(nn.Module):\n",
    "    \n",
    "    def __init__(self):\n",
    "        super(realNetwork, self).__init__()\n",
    "        self.conv1 = nn.Conv2d(in_channels = 1, out_channels = 6, kernel_size = 5)\n",
    "        self.conv2 = nn.Conv2d(in_channels = 6, out_channels = 12, kernel_size = 5)\n",
    "        \n",
    "        self.fc1 = nn.Linear(in_features = 12*4*4, out_features = 120) # \"fully connected\". Also, \"dense\"\n",
    "        self.fc2 = nn.Linear(in_features = 120, out_features = 60)\n",
    "        self.out = nn.Linear(in_features = 60, out_features = 10)\n",
    "        \n",
    "    def forward(self, t):\n",
    "        # time to actually implement forward\n",
    "        return t\n",
    "    \n",
    "example_network = realNetwork()"
   ]
  },
  {
   "cell_type": "code",
   "execution_count": 167,
   "metadata": {},
   "outputs": [
    {
     "name": "stdout",
     "output_type": "stream",
     "text": [
      "realNetwork(\n",
      "  (conv1): Conv2d(1, 6, kernel_size=(5, 5), stride=(1, 1))\n",
      "  (conv2): Conv2d(6, 12, kernel_size=(5, 5), stride=(1, 1))\n",
      "  (fc1): Linear(in_features=192, out_features=120, bias=True)\n",
      "  (fc2): Linear(in_features=120, out_features=60, bias=True)\n",
      "  (out): Linear(in_features=60, out_features=10, bias=True)\n",
      ")\n"
     ]
    }
   ],
   "source": [
    "print(example_network)"
   ]
  },
  {
   "cell_type": "code",
   "execution_count": 168,
   "metadata": {
    "collapsed": true
   },
   "outputs": [],
   "source": [
    "# easy enough. \n",
    "# Two types of parameters here\n",
    "\n",
    "# hyperparameters and data dependent hyperparameters\n",
    "# HPs are parameters for which values are known that generally work. \n",
    "\n",
    "# Learnable parameters are iterated, updated parameters. \n",
    "\n",
    "network = realNetwork()"
   ]
  },
  {
   "cell_type": "code",
   "execution_count": 169,
   "metadata": {},
   "outputs": [
    {
     "data": {
      "text/plain": [
       "torch.Size([60, 120])"
      ]
     },
     "execution_count": 169,
     "metadata": {},
     "output_type": "execute_result"
    }
   ],
   "source": [
    "network.conv1.weight\n",
    "network.conv2.weight.shape\n",
    "network.fc2.weight.shape # conv layer weights are 4-axis tensors"
   ]
  },
  {
   "cell_type": "code",
   "execution_count": 170,
   "metadata": {},
   "outputs": [
    {
     "data": {
      "text/plain": [
       "tensor([[[ 0.0708,  0.0774, -0.0298,  0.0064,  0.0100],\n",
       "         [ 0.0480, -0.0371,  0.0069,  0.0571, -0.0460],\n",
       "         [-0.0278, -0.0318,  0.0034,  0.0395,  0.0618],\n",
       "         [-0.0278,  0.0284, -0.0303,  0.0547,  0.0709],\n",
       "         [-0.0795, -0.0595,  0.0457, -0.0621,  0.0676]],\n",
       "\n",
       "        [[ 0.0714, -0.0106,  0.0166,  0.0469, -0.0039],\n",
       "         [ 0.0361,  0.0228, -0.0436,  0.0514, -0.0791],\n",
       "         [ 0.0777, -0.0233, -0.0477,  0.0434, -0.0738],\n",
       "         [ 0.0454,  0.0630, -0.0654,  0.0559,  0.0410],\n",
       "         [ 0.0331, -0.0707, -0.0295, -0.0422, -0.0525]],\n",
       "\n",
       "        [[ 0.0339,  0.0369,  0.0487, -0.0713,  0.0624],\n",
       "         [ 0.0397, -0.0783, -0.0148, -0.0769,  0.0749],\n",
       "         [ 0.0094,  0.0574, -0.0634, -0.0553,  0.0093],\n",
       "         [-0.0781, -0.0433,  0.0507, -0.0119, -0.0325],\n",
       "         [ 0.0431,  0.0782,  0.0156, -0.0609, -0.0762]],\n",
       "\n",
       "        [[ 0.0730, -0.0524,  0.0756,  0.0796, -0.0135],\n",
       "         [ 0.0473,  0.0058, -0.0735, -0.0411,  0.0664],\n",
       "         [-0.0486, -0.0807, -0.0777, -0.0354, -0.0798],\n",
       "         [-0.0022,  0.0127,  0.0261,  0.0489, -0.0054],\n",
       "         [-0.0271, -0.0219, -0.0222, -0.0345, -0.0364]],\n",
       "\n",
       "        [[-0.0504,  0.0354,  0.0146, -0.0086, -0.0246],\n",
       "         [-0.0587,  0.0261,  0.0085, -0.0506,  0.0138],\n",
       "         [ 0.0180,  0.0007, -0.0057, -0.0720,  0.0300],\n",
       "         [-0.0136, -0.0479, -0.0542,  0.0303,  0.0600],\n",
       "         [ 0.0365, -0.0227, -0.0478, -0.0136, -0.0290]],\n",
       "\n",
       "        [[-0.0405, -0.0392,  0.0706,  0.0081,  0.0693],\n",
       "         [ 0.0540, -0.0504, -0.0797,  0.0574, -0.0181],\n",
       "         [ 0.0325,  0.0267, -0.0228,  0.0426,  0.0437],\n",
       "         [ 0.0520, -0.0436, -0.0329,  0.0241, -0.0588],\n",
       "         [-0.0143,  0.0401,  0.0773,  0.0277,  0.0451]]], requires_grad=True)"
      ]
     },
     "execution_count": 170,
     "metadata": {},
     "output_type": "execute_result"
    }
   ],
   "source": [
    "network.conv2.weight[0] # first filter"
   ]
  },
  {
   "cell_type": "code",
   "execution_count": 171,
   "metadata": {},
   "outputs": [
    {
     "name": "stdout",
     "output_type": "stream",
     "text": [
      "name: conv1.weight \t \t torch.Size([6, 1, 5, 5])\n",
      "name: conv1.bias \t \t torch.Size([6])\n",
      "name: conv2.weight \t \t torch.Size([12, 6, 5, 5])\n",
      "name: conv2.bias \t \t torch.Size([12])\n",
      "name: fc1.weight \t \t torch.Size([120, 192])\n",
      "name: fc1.bias \t \t torch.Size([120])\n",
      "name: fc2.weight \t \t torch.Size([60, 120])\n",
      "name: fc2.bias \t \t torch.Size([60])\n",
      "name: out.weight \t \t torch.Size([10, 60])\n",
      "name: out.bias \t \t torch.Size([10])\n"
     ]
    }
   ],
   "source": [
    "for name, param in network.named_parameters():\n",
    "    print(\"name: {} \\t \\t {}\".format(name, param.shape))"
   ]
  },
  {
   "cell_type": "code",
   "execution_count": 172,
   "metadata": {},
   "outputs": [],
   "source": [
    "# interesting - the bias is also a parameter. Each layer has a bias by default. \n",
    "\n",
    "fc = nn.Linear(in_features = 4, out_features = 3, bias = True)\n",
    "# where exactly is the weight matrix?\n",
    "# lives inside the pytorch Linear Layer class (nn.Linear)\n",
    "# Automatically creates a 3x4 weight matrix \n",
    "# initialized with random values \n",
    "\n",
    "fc.in_features\n",
    "\n",
    "our_in_features = torch.tensor([1,2,3,4], dtype=torch.float32)"
   ]
  },
  {
   "cell_type": "code",
   "execution_count": 173,
   "metadata": {},
   "outputs": [
    {
     "data": {
      "text/plain": [
       "tensor([ 0.0437, -0.4013,  0.2049])"
      ]
     },
     "execution_count": 173,
     "metadata": {},
     "output_type": "execute_result"
    }
   ],
   "source": [
    "fc(our_in_features) # pass our input through linear layer. "
   ]
  },
  {
   "cell_type": "code",
   "execution_count": 174,
   "metadata": {},
   "outputs": [
    {
     "data": {
      "text/plain": [
       "tensor([ 29.8734,  69.5350, 109.8100])"
      ]
     },
     "execution_count": 174,
     "metadata": {},
     "output_type": "execute_result"
    }
   ],
   "source": [
    "# what about a custom weight matrix?\n",
    "our_weight_matrix = torch.tensor([\n",
    "    [1,2,3,4],\n",
    "    [5,6,7,8],\n",
    "    [9,10,11,12],\n",
    "], dtype=torch.float32)\n",
    "\n",
    "fc.weight = nn.Parameter(our_weight_matrix) # technically, anything we want to pass in as a parameter must be cast as one first\n",
    "\n",
    "fc(our_in_features) # neat. Teeny little bias has been added. Try flipping that on and off. \n",
    "\n",
    "# this is a nice little linear function = output = weights(input) + bias"
   ]
  },
  {
   "cell_type": "code",
   "execution_count": 175,
   "metadata": {
    "collapsed": true
   },
   "outputs": [],
   "source": [
    "# alright. Back to implementing the network. \n",
    "import torch.nn.functional as F\n",
    "\n",
    "class Network(nn.Module):\n",
    "    \n",
    "    def __init__(self):\n",
    "        super().__init__()\n",
    "        self.conv1 = nn.Conv2d(in_channels = 1, out_channels = 6, kernel_size = 5)\n",
    "        self.conv2 = nn.Conv2d(in_channels = 6, out_channels = 12, kernel_size = 5)\n",
    "        \n",
    "        self.fc1 = nn.Linear(in_features = 12*4*4, out_features = 120) # \"fully connected\". Also, \"dense\"\n",
    "        self.fc2 = nn.Linear(in_features = 120, out_features = 60)\n",
    "        self.out = nn.Linear(in_features = 60, out_features = 10)\n",
    "        \n",
    "    def forward(self, t):\n",
    "        # time to actually implement forward, layer by layer\n",
    "        # 1) input layer\n",
    "        t = t\n",
    "        \n",
    "        # 2) conv1 - 3 operations. Convolution, activation, and pooling. \n",
    "        t = self.conv1(t) # that easy - we just call the layer obejct on our input! Neat. \n",
    "        t = F.relu(t) # activation function\n",
    "        t = F.max_pool2d(t, kernel_size = 2, stride = 2) # pool the convolution output \n",
    "        \n",
    "        # 3) conv2\n",
    "        t = self.conv2(t) # that easy - we just call the layer obejct on our input! Neat. \n",
    "        t = F.relu(t) \n",
    "        t = F.max_pool2d(t, kernel_size = 2, stride = 2)\n",
    "        \n",
    "        # 4) fc1\n",
    "        t = t.reshape(-1, 12 * 4 * 4) # when we swap from conv to linear, we need to reshape\n",
    "        # 12 is number of output channels from previous layer\n",
    "        # 4x4 is height and with of each of the channels, determined by previous pooling operations. \n",
    "        t = self.fc1(t)\n",
    "        t = F.relu(t)\n",
    "        \n",
    "        # 5) fc2\n",
    "        t = self.fc2(t)\n",
    "        t = F.relu(t)\n",
    "\n",
    "        # 6) out \n",
    "        t = self.out(t)\n",
    "#         t.softmax(t, dim=1) # change to percentages. Different activation function\n",
    "        \n",
    "        return t\n",
    "    \n",
    "example_network = Network()"
   ]
  },
  {
   "cell_type": "code",
   "execution_count": 181,
   "metadata": {},
   "outputs": [
    {
     "data": {
      "text/plain": [
       "<torch.autograd.grad_mode.set_grad_enabled at 0x12e9db6a0>"
      ]
     },
     "execution_count": 181,
     "metadata": {},
     "output_type": "execute_result"
    }
   ],
   "source": [
    "# turn auto graph building feature off\n",
    "torch.set_grad_enabled(False)"
   ]
  },
  {
   "cell_type": "code",
   "execution_count": 182,
   "metadata": {
    "collapsed": true
   },
   "outputs": [],
   "source": [
    "network = Network()\n",
    "sample = next(iter(train_set))\n",
    "image, label = sample"
   ]
  },
  {
   "cell_type": "code",
   "execution_count": 183,
   "metadata": {},
   "outputs": [
    {
     "name": "stdout",
     "output_type": "stream",
     "text": [
      "torch.Size([1, 28, 28])\n"
     ]
    },
    {
     "data": {
      "text/plain": [
       "9"
      ]
     },
     "execution_count": 183,
     "metadata": {},
     "output_type": "execute_result"
    }
   ],
   "source": [
    "print(image.shape)\n",
    "label"
   ]
  },
  {
   "cell_type": "code",
   "execution_count": 184,
   "metadata": {},
   "outputs": [
    {
     "data": {
      "text/plain": [
       "torch.Size([1, 1, 28, 28])"
      ]
     },
     "execution_count": 184,
     "metadata": {},
     "output_type": "execute_result"
    }
   ],
   "source": [
    "# MUST batch before we pass into network\n",
    "# We can make a batch with just one image easily. We just need to make it into a four-dimensional tensor. \n",
    "# just unsqueeze it! \n",
    "\n",
    "image.unsqueeze(0).shape"
   ]
  },
  {
   "cell_type": "code",
   "execution_count": 188,
   "metadata": {},
   "outputs": [
    {
     "data": {
      "text/plain": [
       "torch.Size([1, 10])"
      ]
     },
     "execution_count": 188,
     "metadata": {},
     "output_type": "execute_result"
    }
   ],
   "source": [
    "# just what we're looking for. \n",
    "\n",
    "pred = network(image.unsqueeze(0))\n",
    "pred.shape"
   ]
  },
  {
   "cell_type": "code",
   "execution_count": 205,
   "metadata": {},
   "outputs": [
    {
     "data": {
      "text/plain": [
       "tensor([[ 0.0403, -0.0795,  0.1241, -0.0804, -0.1281, -0.0057, -0.0020, -0.0083, -0.0602,  0.0646]])"
      ]
     },
     "execution_count": 205,
     "metadata": {},
     "output_type": "execute_result"
    }
   ],
   "source": [
    "pred"
   ]
  },
  {
   "cell_type": "code",
   "execution_count": 207,
   "metadata": {},
   "outputs": [
    {
     "name": "stdout",
     "output_type": "stream",
     "text": [
      "2\n"
     ]
    },
    {
     "data": {
      "text/plain": [
       "tensor([[0.1053, 0.0934, 0.1145, 0.0933, 0.0889, 0.1005, 0.1009, 0.1003, 0.0952, 0.1078]])"
      ]
     },
     "execution_count": 207,
     "metadata": {},
     "output_type": "execute_result"
    }
   ],
   "source": [
    "# What we have here is \"likeness values\" for each of the ten categories of clothing. \n",
    "print(pred.argmax(dim=1).item())\n",
    "softmax1 = F.softmax(pred, dim=1)\n",
    "softmax1\n",
    "# note that these probabilities are almost all equal. THat is because our network is untrained, and has an evenly-distrbuted training set. \n",
    "# This makes perfect sense. "
   ]
  },
  {
   "cell_type": "code",
   "execution_count": 202,
   "metadata": {},
   "outputs": [
    {
     "name": "stdout",
     "output_type": "stream",
     "text": [
      "label: 2 \t\t value: 11.44554689526558%\n"
     ]
    }
   ],
   "source": [
    "print(\"label: {} \\t\\t value: {}%\".format(pred.argmax(dim=1).item(), F.softmax(pred, dim=1).max().item()*100))\n",
    "# also nice to look at. "
   ]
  },
  {
   "cell_type": "code",
   "execution_count": 204,
   "metadata": {},
   "outputs": [
    {
     "name": "stdout",
     "output_type": "stream",
     "text": [
      "1.0\n"
     ]
    }
   ],
   "source": [
    "print(F.softmax(pred, dim=1).sum().item())\n",
    "# adds up to 1.0. Nice"
   ]
  },
  {
   "cell_type": "code",
   "execution_count": 209,
   "metadata": {},
   "outputs": [
    {
     "name": "stdout",
     "output_type": "stream",
     "text": [
      "tensor([[0.1053, 0.0934, 0.1145, 0.0933, 0.0889, 0.1005, 0.1009, 0.1003, 0.0952, 0.1078]])\n"
     ]
    },
    {
     "data": {
      "text/plain": [
       "tensor([[0.1055, 0.0911, 0.1001, 0.0900, 0.1080, 0.1138, 0.1069, 0.0940, 0.1001, 0.0905]])"
      ]
     },
     "execution_count": 209,
     "metadata": {},
     "output_type": "execute_result"
    }
   ],
   "source": [
    "# Let's see how a second network compares. \n",
    "\n",
    "net_two = Network()\n",
    "pred_two = net_two(image.unsqueeze(0))\n",
    "softmax2 = F.softmax(pred_two, dim=1)\n",
    "\n",
    "print(softmax1)\n",
    "softmax2\n"
   ]
  },
  {
   "cell_type": "code",
   "execution_count": 212,
   "metadata": {},
   "outputs": [
    {
     "data": {
      "text/plain": [
       "torch.Size([100, 1, 28, 28])"
      ]
     },
     "execution_count": 212,
     "metadata": {},
     "output_type": "execute_result"
    }
   ],
   "source": [
    "# slightly different. Very good. \n",
    "\n",
    "# Let's look a new batch of real images.\n",
    "batch = next(iter(train_loader))\n",
    "images, labels = batch\n",
    "images.shape # 100 images. Proper tensor shape. Nice. "
   ]
  },
  {
   "cell_type": "code",
   "execution_count": 213,
   "metadata": {},
   "outputs": [
    {
     "data": {
      "text/plain": [
       "torch.Size([100, 10])"
      ]
     },
     "execution_count": 213,
     "metadata": {},
     "output_type": "execute_result"
    }
   ],
   "source": [
    "# back to our first network\n",
    "\n",
    "batch_pred = network(images)\n",
    "batch_pred.shape"
   ]
  },
  {
   "cell_type": "code",
   "execution_count": 220,
   "metadata": {},
   "outputs": [
    {
     "data": {
      "text/plain": [
       "tensor([[0.1053, 0.0934, 0.1145, 0.0933, 0.0889, 0.1005, 0.1009, 0.1003, 0.0952, 0.1078],\n",
       "        [0.1050, 0.0952, 0.1141, 0.0929, 0.0875, 0.1005, 0.1017, 0.1006, 0.0950, 0.1075],\n",
       "        [0.1047, 0.0955, 0.1141, 0.0929, 0.0881, 0.1007, 0.1013, 0.1003, 0.0955, 0.1069],\n",
       "        [0.1051, 0.0953, 0.1140, 0.0929, 0.0882, 0.1006, 0.1017, 0.1004, 0.0951, 0.1068],\n",
       "        [0.1052, 0.0950, 0.1139, 0.0926, 0.0884, 0.1009, 0.1012, 0.1005, 0.0944, 0.1078],\n",
       "        [0.1047, 0.0941, 0.1145, 0.0926, 0.0882, 0.1009, 0.1018, 0.1006, 0.0950, 0.1076],\n",
       "        [0.1051, 0.0935, 0.1159, 0.0926, 0.0886, 0.1006, 0.1000, 0.0998, 0.0958, 0.1081],\n",
       "        [0.1042, 0.0934, 0.1141, 0.0933, 0.0892, 0.1005, 0.1016, 0.1010, 0.0950, 0.1077],\n",
       "        [0.1040, 0.0954, 0.1149, 0.0927, 0.0883, 0.1014, 0.1015, 0.1006, 0.0947, 0.1063],\n",
       "        [0.1043, 0.0946, 0.1150, 0.0920, 0.0889, 0.1015, 0.1011, 0.1005, 0.0959, 0.1061],\n",
       "        [0.1051, 0.0949, 0.1139, 0.0932, 0.0881, 0.1001, 0.1016, 0.1003, 0.0954, 0.1074],\n",
       "        [0.1052, 0.0942, 0.1139, 0.0929, 0.0892, 0.1009, 0.1012, 0.1005, 0.0945, 0.1076],\n",
       "        [0.1047, 0.0942, 0.1151, 0.0926, 0.0882, 0.1010, 0.1011, 0.0996, 0.0962, 0.1074],\n",
       "        [0.1043, 0.0939, 0.1154, 0.0931, 0.0884, 0.1006, 0.1010, 0.1004, 0.0953, 0.1077],\n",
       "        [0.1050, 0.0940, 0.1153, 0.0927, 0.0882, 0.1006, 0.1006, 0.1000, 0.0955, 0.1079],\n",
       "        [0.1046, 0.0937, 0.1150, 0.0933, 0.0889, 0.1010, 0.1009, 0.1003, 0.0948, 0.1074],\n",
       "        [0.1051, 0.0950, 0.1137, 0.0927, 0.0882, 0.1008, 0.1013, 0.1003, 0.0950, 0.1080],\n",
       "        [0.1054, 0.0946, 0.1142, 0.0932, 0.0881, 0.0997, 0.1013, 0.1006, 0.0951, 0.1077],\n",
       "        [0.1047, 0.0942, 0.1146, 0.0930, 0.0884, 0.1003, 0.1016, 0.1006, 0.0952, 0.1073],\n",
       "        [0.1042, 0.0956, 0.1142, 0.0929, 0.0884, 0.1012, 0.1013, 0.1004, 0.0955, 0.1064],\n",
       "        [0.1055, 0.0955, 0.1136, 0.0925, 0.0880, 0.1007, 0.1015, 0.1003, 0.0949, 0.1075],\n",
       "        [0.1050, 0.0954, 0.1140, 0.0923, 0.0884, 0.1004, 0.1012, 0.1008, 0.0948, 0.1077],\n",
       "        [0.1048, 0.0944, 0.1147, 0.0930, 0.0890, 0.1006, 0.1010, 0.1005, 0.0945, 0.1077],\n",
       "        [0.1047, 0.0939, 0.1145, 0.0935, 0.0880, 0.1003, 0.1018, 0.1006, 0.0953, 0.1075],\n",
       "        [0.1042, 0.0943, 0.1147, 0.0929, 0.0885, 0.1009, 0.1015, 0.1007, 0.0951, 0.1071],\n",
       "        [0.1047, 0.0947, 0.1149, 0.0926, 0.0884, 0.1010, 0.1010, 0.1001, 0.0950, 0.1076],\n",
       "        [0.1046, 0.0945, 0.1145, 0.0929, 0.0880, 0.1006, 0.1014, 0.1004, 0.0955, 0.1075],\n",
       "        [0.1044, 0.0936, 0.1142, 0.0932, 0.0889, 0.1002, 0.1016, 0.1008, 0.0951, 0.1080],\n",
       "        [0.1041, 0.0951, 0.1144, 0.0928, 0.0885, 0.1010, 0.1013, 0.1005, 0.0952, 0.1069],\n",
       "        [0.1046, 0.0937, 0.1145, 0.0931, 0.0890, 0.1004, 0.1016, 0.1006, 0.0949, 0.1075],\n",
       "        [0.1052, 0.0945, 0.1157, 0.0927, 0.0878, 0.1004, 0.1008, 0.1002, 0.0957, 0.1069],\n",
       "        [0.1048, 0.0952, 0.1145, 0.0930, 0.0883, 0.1010, 0.1009, 0.1000, 0.0954, 0.1070],\n",
       "        [0.1047, 0.0942, 0.1143, 0.0929, 0.0886, 0.1005, 0.1018, 0.1007, 0.0948, 0.1075],\n",
       "        [0.1043, 0.0955, 0.1144, 0.0929, 0.0881, 0.1007, 0.1012, 0.1003, 0.0959, 0.1066],\n",
       "        [0.1046, 0.0954, 0.1142, 0.0930, 0.0880, 0.1005, 0.1013, 0.1002, 0.0960, 0.1067],\n",
       "        [0.1041, 0.0947, 0.1148, 0.0931, 0.0879, 0.1012, 0.1016, 0.1004, 0.0952, 0.1070],\n",
       "        [0.1049, 0.0952, 0.1147, 0.0928, 0.0884, 0.1009, 0.1015, 0.1006, 0.0951, 0.1060],\n",
       "        [0.1044, 0.0948, 0.1148, 0.0930, 0.0881, 0.1008, 0.1014, 0.1004, 0.0955, 0.1069],\n",
       "        [0.1048, 0.0951, 0.1143, 0.0925, 0.0880, 0.1012, 0.1012, 0.1002, 0.0952, 0.1074],\n",
       "        [0.1045, 0.0939, 0.1146, 0.0930, 0.0889, 0.1004, 0.1014, 0.1007, 0.0948, 0.1079],\n",
       "        [0.1046, 0.0936, 0.1149, 0.0929, 0.0888, 0.1008, 0.1014, 0.1005, 0.0949, 0.1076],\n",
       "        [0.1048, 0.0937, 0.1156, 0.0930, 0.0887, 0.1006, 0.1005, 0.0997, 0.0955, 0.1078],\n",
       "        [0.1050, 0.0929, 0.1148, 0.0933, 0.0890, 0.1007, 0.1007, 0.1003, 0.0955, 0.1079],\n",
       "        [0.1047, 0.0934, 0.1154, 0.0929, 0.0884, 0.1010, 0.1014, 0.1001, 0.0950, 0.1076],\n",
       "        [0.1043, 0.0932, 0.1151, 0.0930, 0.0887, 0.1011, 0.1012, 0.1006, 0.0950, 0.1078],\n",
       "        [0.1041, 0.0945, 0.1149, 0.0930, 0.0883, 0.1009, 0.1015, 0.1004, 0.0955, 0.1069],\n",
       "        [0.1043, 0.0939, 0.1156, 0.0929, 0.0882, 0.1010, 0.1008, 0.1001, 0.0951, 0.1080],\n",
       "        [0.1049, 0.0952, 0.1144, 0.0926, 0.0881, 0.1005, 0.1013, 0.1003, 0.0954, 0.1073],\n",
       "        [0.1051, 0.0954, 0.1137, 0.0932, 0.0877, 0.1000, 0.1015, 0.1006, 0.0953, 0.1076],\n",
       "        [0.1049, 0.0946, 0.1145, 0.0924, 0.0885, 0.1008, 0.1014, 0.1003, 0.0951, 0.1075],\n",
       "        [0.1056, 0.0956, 0.1139, 0.0921, 0.0880, 0.1010, 0.1010, 0.1002, 0.0953, 0.1073],\n",
       "        [0.1051, 0.0951, 0.1141, 0.0926, 0.0882, 0.1008, 0.1013, 0.1003, 0.0949, 0.1075],\n",
       "        [0.1045, 0.0938, 0.1155, 0.0930, 0.0883, 0.1012, 0.1006, 0.1000, 0.0951, 0.1080],\n",
       "        [0.1045, 0.0934, 0.1140, 0.0933, 0.0892, 0.1003, 0.1015, 0.1008, 0.0949, 0.1081],\n",
       "        [0.1044, 0.0951, 0.1144, 0.0931, 0.0882, 0.1008, 0.1013, 0.1003, 0.0957, 0.1066],\n",
       "        [0.1045, 0.0946, 0.1142, 0.0932, 0.0880, 0.1003, 0.1015, 0.1007, 0.0953, 0.1078],\n",
       "        [0.1054, 0.0943, 0.1144, 0.0929, 0.0882, 0.1002, 0.1014, 0.1005, 0.0948, 0.1079],\n",
       "        [0.1046, 0.0946, 0.1149, 0.0929, 0.0879, 0.1011, 0.1013, 0.1003, 0.0953, 0.1072],\n",
       "        [0.1055, 0.0950, 0.1139, 0.0925, 0.0884, 0.1007, 0.1010, 0.1002, 0.0948, 0.1080],\n",
       "        [0.1055, 0.0952, 0.1140, 0.0926, 0.0881, 0.1010, 0.1010, 0.1000, 0.0952, 0.1074],\n",
       "        [0.1049, 0.0943, 0.1146, 0.0922, 0.0892, 0.1018, 0.1009, 0.1001, 0.0952, 0.1069],\n",
       "        [0.1050, 0.0943, 0.1148, 0.0928, 0.0881, 0.1006, 0.1013, 0.1003, 0.0953, 0.1074],\n",
       "        [0.1043, 0.0942, 0.1155, 0.0930, 0.0883, 0.1010, 0.1010, 0.1002, 0.0957, 0.1068],\n",
       "        [0.1044, 0.0948, 0.1154, 0.0925, 0.0879, 0.1014, 0.1010, 0.1002, 0.0957, 0.1068],\n",
       "        [0.1056, 0.0949, 0.1138, 0.0929, 0.0886, 0.1004, 0.1016, 0.1005, 0.0946, 0.1071],\n",
       "        [0.1046, 0.0942, 0.1144, 0.0933, 0.0884, 0.1002, 0.1015, 0.1006, 0.0951, 0.1076],\n",
       "        [0.1050, 0.0950, 0.1141, 0.0933, 0.0879, 0.1000, 0.1016, 0.1006, 0.0951, 0.1076],\n",
       "        [0.1051, 0.0944, 0.1146, 0.0930, 0.0885, 0.1005, 0.1013, 0.1004, 0.0948, 0.1073],\n",
       "        [0.1043, 0.0942, 0.1147, 0.0930, 0.0888, 0.1005, 0.1015, 0.1006, 0.0952, 0.1072],\n",
       "        [0.1049, 0.0948, 0.1144, 0.0926, 0.0883, 0.1011, 0.1008, 0.1002, 0.0957, 0.1073],\n",
       "        [0.1054, 0.0937, 0.1143, 0.0933, 0.0888, 0.1001, 0.1016, 0.1007, 0.0946, 0.1075],\n",
       "        [0.1048, 0.0947, 0.1145, 0.0923, 0.0884, 0.1010, 0.1012, 0.1002, 0.0954, 0.1074],\n",
       "        [0.1049, 0.0951, 0.1141, 0.0931, 0.0879, 0.1001, 0.1016, 0.1002, 0.0956, 0.1073],\n",
       "        [0.1056, 0.0951, 0.1136, 0.0926, 0.0884, 0.1006, 0.1011, 0.1002, 0.0949, 0.1079],\n",
       "        [0.1047, 0.0947, 0.1147, 0.0923, 0.0884, 0.1012, 0.1010, 0.1002, 0.0956, 0.1073],\n",
       "        [0.1044, 0.0941, 0.1145, 0.0929, 0.0887, 0.1006, 0.1014, 0.1008, 0.0948, 0.1076],\n",
       "        [0.1050, 0.0948, 0.1144, 0.0928, 0.0886, 0.1005, 0.1012, 0.1005, 0.0946, 0.1076],\n",
       "        [0.1042, 0.0944, 0.1150, 0.0930, 0.0880, 0.1006, 0.1018, 0.1007, 0.0952, 0.1071],\n",
       "        [0.1050, 0.0952, 0.1138, 0.0928, 0.0881, 0.1009, 0.1013, 0.1000, 0.0955, 0.1075],\n",
       "        [0.1045, 0.0935, 0.1151, 0.0932, 0.0888, 0.1005, 0.1012, 0.1010, 0.0946, 0.1076],\n",
       "        [0.1051, 0.0945, 0.1143, 0.0923, 0.0885, 0.1007, 0.1010, 0.1004, 0.0950, 0.1082],\n",
       "        [0.1053, 0.0952, 0.1141, 0.0927, 0.0880, 0.1006, 0.1014, 0.1003, 0.0956, 0.1068],\n",
       "        [0.1043, 0.0951, 0.1150, 0.0925, 0.0883, 0.1011, 0.1011, 0.1003, 0.0957, 0.1066],\n",
       "        [0.1045, 0.0937, 0.1156, 0.0928, 0.0883, 0.1011, 0.1009, 0.1000, 0.0953, 0.1079],\n",
       "        [0.1053, 0.0942, 0.1140, 0.0931, 0.0887, 0.1007, 0.1014, 0.1004, 0.0948, 0.1074],\n",
       "        [0.1046, 0.0939, 0.1150, 0.0932, 0.0886, 0.1011, 0.1011, 0.1002, 0.0951, 0.1073],\n",
       "        [0.1052, 0.0944, 0.1143, 0.0923, 0.0885, 0.1008, 0.1010, 0.1003, 0.0951, 0.1081],\n",
       "        [0.1050, 0.0936, 0.1158, 0.0927, 0.0885, 0.1010, 0.1003, 0.0998, 0.0954, 0.1079],\n",
       "        [0.1047, 0.0939, 0.1142, 0.0929, 0.0894, 0.1012, 0.1011, 0.1009, 0.0947, 0.1071],\n",
       "        [0.1049, 0.0938, 0.1149, 0.0934, 0.0884, 0.1005, 0.1008, 0.1001, 0.0955, 0.1078],\n",
       "        [0.1048, 0.0948, 0.1140, 0.0933, 0.0887, 0.1004, 0.1015, 0.1002, 0.0956, 0.1067],\n",
       "        [0.1051, 0.0952, 0.1146, 0.0928, 0.0884, 0.1012, 0.1009, 0.0997, 0.0951, 0.1070],\n",
       "        [0.1046, 0.0946, 0.1150, 0.0933, 0.0879, 0.1007, 0.1011, 0.1002, 0.0956, 0.1071],\n",
       "        [0.1049, 0.0934, 0.1148, 0.0932, 0.0890, 0.1005, 0.1006, 0.1001, 0.0954, 0.1081],\n",
       "        [0.1043, 0.0952, 0.1143, 0.0928, 0.0882, 0.1009, 0.1016, 0.1003, 0.0952, 0.1070],\n",
       "        [0.1041, 0.0944, 0.1148, 0.0930, 0.0882, 0.1009, 0.1016, 0.1005, 0.0955, 0.1069],\n",
       "        [0.1044, 0.0956, 0.1143, 0.0927, 0.0883, 0.1009, 0.1014, 0.1002, 0.0958, 0.1066],\n",
       "        [0.1050, 0.0957, 0.1140, 0.0926, 0.0880, 0.1013, 0.1013, 0.1000, 0.0950, 0.1072],\n",
       "        [0.1048, 0.0951, 0.1142, 0.0924, 0.0884, 0.1008, 0.1013, 0.1005, 0.0953, 0.1072],\n",
       "        [0.1042, 0.0941, 0.1150, 0.0934, 0.0882, 0.1005, 0.1014, 0.1009, 0.0949, 0.1074]])"
      ]
     },
     "execution_count": 220,
     "metadata": {},
     "output_type": "execute_result"
    }
   ],
   "source": [
    "batch_softmax = F.softmax(batch_pred, dim=1)\n",
    "batch_softmax"
   ]
  },
  {
   "cell_type": "code",
   "execution_count": 226,
   "metadata": {},
   "outputs": [
    {
     "name": "stdout",
     "output_type": "stream",
     "text": [
      "1) label: 2 \t\t value: 11.44554689526558%\n",
      "2) label: 2 \t\t value: 11.411470919847488%\n",
      "3) label: 2 \t\t value: 11.40826940536499%\n",
      "4) label: 2 \t\t value: 11.399462074041367%\n",
      "5) label: 2 \t\t value: 11.394376307725906%\n",
      "6) label: 2 \t\t value: 11.449643969535828%\n",
      "7) label: 2 \t\t value: 11.59299910068512%\n",
      "8) label: 2 \t\t value: 11.409740149974823%\n",
      "9) label: 2 \t\t value: 11.491484194993973%\n",
      "10) label: 2 \t\t value: 11.4979587495327%\n",
      "11) label: 2 \t\t value: 11.387425661087036%\n",
      "12) label: 2 \t\t value: 11.390262097120285%\n",
      "13) label: 2 \t\t value: 11.511407792568207%\n",
      "14) label: 2 \t\t value: 11.535289138555527%\n",
      "15) label: 2 \t\t value: 11.533043533563614%\n",
      "16) label: 2 \t\t value: 11.50466725230217%\n",
      "17) label: 2 \t\t value: 11.371853947639465%\n",
      "18) label: 2 \t\t value: 11.419694870710373%\n",
      "19) label: 2 \t\t value: 11.46266683936119%\n",
      "20) label: 2 \t\t value: 11.417940258979797%\n",
      "21) label: 2 \t\t value: 11.36222630739212%\n",
      "22) label: 2 \t\t value: 11.398109048604965%\n",
      "23) label: 2 \t\t value: 11.467248946428299%\n",
      "24) label: 2 \t\t value: 11.451657116413116%\n",
      "25) label: 2 \t\t value: 11.468326300382614%\n",
      "26) label: 2 \t\t value: 11.491959542036057%\n",
      "27) label: 2 \t\t value: 11.450570076704025%\n",
      "28) label: 2 \t\t value: 11.419244110584259%\n",
      "29) label: 2 \t\t value: 11.435052007436752%\n",
      "30) label: 2 \t\t value: 11.454306542873383%\n",
      "31) label: 2 \t\t value: 11.572286486625671%\n",
      "32) label: 2 \t\t value: 11.445286870002747%\n",
      "33) label: 2 \t\t value: 11.429879814386368%\n",
      "34) label: 2 \t\t value: 11.441851407289505%\n",
      "35) label: 2 \t\t value: 11.424217373132706%\n",
      "36) label: 2 \t\t value: 11.476130783557892%\n",
      "37) label: 2 \t\t value: 11.469102650880814%\n",
      "38) label: 2 \t\t value: 11.483121663331985%\n",
      "39) label: 2 \t\t value: 11.426649987697601%\n",
      "40) label: 2 \t\t value: 11.462751030921936%\n",
      "41) label: 2 \t\t value: 11.491706222295761%\n",
      "42) label: 2 \t\t value: 11.56235784292221%\n",
      "43) label: 2 \t\t value: 11.476904153823853%\n",
      "44) label: 2 \t\t value: 11.536694318056107%\n",
      "45) label: 2 \t\t value: 11.510759592056274%\n",
      "46) label: 2 \t\t value: 11.494555324316025%\n",
      "47) label: 2 \t\t value: 11.55690848827362%\n",
      "48) label: 2 \t\t value: 11.43534779548645%\n",
      "49) label: 2 \t\t value: 11.369572579860687%\n",
      "50) label: 2 \t\t value: 11.450789868831635%\n",
      "51) label: 2 \t\t value: 11.391614377498627%\n",
      "52) label: 2 \t\t value: 11.407441645860672%\n",
      "53) label: 2 \t\t value: 11.552594602108002%\n",
      "54) label: 2 \t\t value: 11.400147527456284%\n",
      "55) label: 2 \t\t value: 11.441148817539215%\n",
      "56) label: 2 \t\t value: 11.417661607265472%\n",
      "57) label: 2 \t\t value: 11.436063796281815%\n",
      "58) label: 2 \t\t value: 11.486461758613586%\n",
      "59) label: 2 \t\t value: 11.393371969461441%\n",
      "60) label: 2 \t\t value: 11.404059082269669%\n",
      "61) label: 2 \t\t value: 11.457215249538422%\n",
      "62) label: 2 \t\t value: 11.479473859071732%\n",
      "63) label: 2 \t\t value: 11.554985493421555%\n",
      "64) label: 2 \t\t value: 11.541595309972763%\n",
      "65) label: 2 \t\t value: 11.380451172590256%\n",
      "66) label: 2 \t\t value: 11.444681137800217%\n",
      "67) label: 2 \t\t value: 11.40991523861885%\n",
      "68) label: 2 \t\t value: 11.46489754319191%\n",
      "69) label: 2 \t\t value: 11.468648165464401%\n",
      "70) label: 2 \t\t value: 11.438973248004913%\n",
      "71) label: 2 \t\t value: 11.431802064180374%\n",
      "72) label: 2 \t\t value: 11.448624730110168%\n",
      "73) label: 2 \t\t value: 11.413680762052536%\n",
      "74) label: 2 \t\t value: 11.364458501338959%\n",
      "75) label: 2 \t\t value: 11.465886980295181%\n",
      "76) label: 2 \t\t value: 11.452510952949524%\n",
      "77) label: 2 \t\t value: 11.444902420043945%\n",
      "78) label: 2 \t\t value: 11.495931446552277%\n",
      "79) label: 2 \t\t value: 11.38409748673439%\n",
      "80) label: 2 \t\t value: 11.508645117282867%\n",
      "81) label: 2 \t\t value: 11.425204575061798%\n",
      "82) label: 2 \t\t value: 11.41139641404152%\n",
      "83) label: 2 \t\t value: 11.503363400697708%\n",
      "84) label: 2 \t\t value: 11.556032299995422%\n",
      "85) label: 2 \t\t value: 11.40221431851387%\n",
      "86) label: 2 \t\t value: 11.49882897734642%\n",
      "87) label: 2 \t\t value: 11.426078528165817%\n",
      "88) label: 2 \t\t value: 11.5769624710083%\n",
      "89) label: 2 \t\t value: 11.42081767320633%\n",
      "90) label: 2 \t\t value: 11.48548498749733%\n",
      "91) label: 2 \t\t value: 11.401598155498505%\n",
      "92) label: 2 \t\t value: 11.455149948596954%\n",
      "93) label: 2 \t\t value: 11.49863675236702%\n",
      "94) label: 2 \t\t value: 11.475281417369843%\n",
      "95) label: 2 \t\t value: 11.434990912675858%\n",
      "96) label: 2 \t\t value: 11.483574658632278%\n",
      "97) label: 2 \t\t value: 11.42786294221878%\n",
      "98) label: 2 \t\t value: 11.399435251951218%\n",
      "99) label: 2 \t\t value: 11.422791332006454%\n",
      "100) label: 2 \t\t value: 11.498181521892548%\n"
     ]
    }
   ],
   "source": [
    "i = 0\n",
    "for pred in batch_softmax:\n",
    "    i+=1\n",
    "    print(\"{}) label: {} \\t\\t value: {}%\".format(i, pred.argmax(dim=0).item(), pred.max().item()*100))\n",
    "    # thinks everything is 2. Not sure why, but maybe the dataset is just imbalanced there"
   ]
  },
  {
   "cell_type": "code",
   "execution_count": 229,
   "metadata": {},
   "outputs": [
    {
     "data": {
      "text/plain": [
       "tensor([False, False, False, False, False,  True, False,  True, False, False, False, False, False, False, False, False,\n",
       "        False, False, False, False, False, False, False, False, False, False, False,  True, False, False, False, False,\n",
       "        False, False, False, False, False,  True, False, False, False, False, False, False, False,  True, False, False,\n",
       "        False, False, False, False, False,  True,  True, False, False, False, False, False, False, False, False, False,\n",
       "        False,  True, False, False, False, False, False, False, False, False, False, False, False, False, False, False,\n",
       "        False, False, False, False, False, False, False, False, False, False, False, False,  True, False, False, False,\n",
       "        False, False, False, False])"
      ]
     },
     "execution_count": 229,
     "metadata": {},
     "output_type": "execute_result"
    }
   ],
   "source": [
    "batch_pred.argmax(dim=1).eq(labels)"
   ]
  },
  {
   "cell_type": "code",
   "execution_count": 233,
   "metadata": {},
   "outputs": [],
   "source": [
    "def get_num_correct(preds, labels):\n",
    "    return preds.argmax(dim=1).eq(labels).sum() # number of correct guesses"
   ]
  },
  {
   "cell_type": "code",
   "execution_count": 234,
   "metadata": {},
   "outputs": [
    {
     "data": {
      "text/plain": [
       "tensor(9)"
      ]
     },
     "execution_count": 234,
     "metadata": {},
     "output_type": "execute_result"
    }
   ],
   "source": [
    "get_num_correct(batch_pred, labels)"
   ]
  }
 ],
 "metadata": {
  "kernelspec": {
   "display_name": "Python 3",
   "language": "python",
   "name": "python3"
  },
  "language_info": {
   "codemirror_mode": {
    "name": "ipython",
    "version": 3
   },
   "file_extension": ".py",
   "mimetype": "text/x-python",
   "name": "python",
   "nbconvert_exporter": "python",
   "pygments_lexer": "ipython3",
   "version": "3.6.3"
  }
 },
 "nbformat": 4,
 "nbformat_minor": 2
}
